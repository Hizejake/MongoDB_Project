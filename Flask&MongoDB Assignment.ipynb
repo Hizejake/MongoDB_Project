{
 "cells": [
  {
   "cell_type": "code",
   "execution_count": 16,
   "outputs": [
    {
     "name": "stdout",
     "output_type": "stream",
     "text": [
      "Requirement already satisfied: flask in c:\\users\\arpan\\anaconda3\\lib\\site-packages (3.0.0)\n",
      "Requirement already satisfied: Werkzeug>=3.0.0 in c:\\users\\arpan\\anaconda3\\lib\\site-packages (from flask) (3.0.0)\n",
      "Requirement already satisfied: Jinja2>=3.1.2 in c:\\users\\arpan\\anaconda3\\lib\\site-packages (from flask) (3.1.2)\n",
      "Requirement already satisfied: itsdangerous>=2.1.2 in c:\\users\\arpan\\anaconda3\\lib\\site-packages (from flask) (2.1.2)\n",
      "Requirement already satisfied: click>=8.1.3 in c:\\users\\arpan\\anaconda3\\lib\\site-packages (from flask) (8.1.7)\n",
      "Requirement already satisfied: blinker>=1.6.2 in c:\\users\\arpan\\anaconda3\\lib\\site-packages (from flask) (1.6.3)\n",
      "Requirement already satisfied: colorama in c:\\users\\arpan\\anaconda3\\lib\\site-packages (from click>=8.1.3->flask) (0.4.6)\n",
      "Requirement already satisfied: MarkupSafe>=2.0 in c:\\users\\arpan\\anaconda3\\lib\\site-packages (from Jinja2>=3.1.2->flask) (2.1.1)\n",
      "Note: you may need to restart the kernel to use updated packages.\n"
     ]
    }
   ],
   "source": [
    "pip install flask"
   ],
   "metadata": {
    "collapsed": false,
    "ExecuteTime": {
     "end_time": "2023-10-11T23:36:21.997216200Z",
     "start_time": "2023-10-11T23:36:16.259636700Z"
    }
   },
   "id": "19dfb61eef309836"
  },
  {
   "cell_type": "code",
   "execution_count": 17,
   "id": "initial_id",
   "metadata": {
    "collapsed": true,
    "ExecuteTime": {
     "end_time": "2023-10-11T23:36:22.008111Z",
     "start_time": "2023-10-11T23:36:22.003057900Z"
    }
   },
   "outputs": [],
   "source": [
    "import pandas as pd\n",
    "import numpy as np\n",
    "import matplotlib.pyplot as plt\n",
    "import random\n",
    "import math\n",
    "import string\n",
    "from flask import Flask,request,jsonify,render_template\n",
    "import pymongo\n"
   ]
  },
  {
   "cell_type": "markdown",
   "id": "455136d15adfcf09",
   "metadata": {
    "collapsed": false
   },
   "source": [
    "The Objective of this assignment is to make an url page which can\n",
    "\n",
    "1. create a dataset inside mongodb\n",
    "2. update into the dataset\n",
    "3. insertion of data into the dataset\n",
    "4. delete from table\n",
    "5. download data from database"
   ]
  },
  {
   "cell_type": "code",
   "execution_count": 18,
   "id": "49bd3668607617c0",
   "metadata": {
    "collapsed": false,
    "ExecuteTime": {
     "end_time": "2023-10-11T23:36:22.027509800Z",
     "start_time": "2023-10-11T23:36:22.008111Z"
    }
   },
   "outputs": [],
   "source": [
    "dbconn = pymongo.MongoClient('mongodb://localhost:27017/') # connecting to the localhost mongodb service\n"
   ]
  },
  {
   "cell_type": "code",
   "execution_count": 19,
   "outputs": [],
   "source": [
    "# dbname = \"user_name\"\n",
    "# \n",
    "# try:\n",
    "#     db = dbconn[dbname]\n",
    "#     db.create_collection(dbname+'Collection')\n",
    "#     print('Database Created Successfully')\n",
    "# except Exception as e:\n",
    "#     print(e)"
   ],
   "metadata": {
    "collapsed": false,
    "ExecuteTime": {
     "end_time": "2023-10-11T23:36:22.059783800Z",
     "start_time": "2023-10-11T23:36:22.031128500Z"
    }
   },
   "id": "ddc2c69bef7d3fbd"
  },
  {
   "cell_type": "code",
   "execution_count": 20,
   "outputs": [
    {
     "name": "stdout",
     "output_type": "stream",
     "text": [
      " * Serving Flask app '__name__'\n",
      " * Debug mode: off\n"
     ]
    },
    {
     "name": "stderr",
     "output_type": "stream",
     "text": [
      "WARNING: This is a development server. Do not use it in a production deployment. Use a production WSGI server instead.\n",
      " * Running on http://127.0.0.1:5000\n",
      "Press CTRL+C to quit\n",
      "127.0.0.1 - - [12/Oct/2023 05:06:51] \"POST /db HTTP/1.1\" 200 -\n"
     ]
    }
   ],
   "source": [
    "app = Flask('__name__')\n",
    "@app.route('/db', methods = ['POST'])\n",
    "\n",
    "def dbcreate():\n",
    "    if request.method == 'POST':\n",
    "        dbname = str(request.json['dbname'])\n",
    "        try:\n",
    "            db = dbconn[dbname]\n",
    "            db.create_collection(dbname+'_Collection')\n",
    "            return jsonify(dbname+'DB &'+dbname+'_Collection Created')\n",
    "        except Exception as e:\n",
    "            return jsonify(e)\n",
    "\n",
    "if __name__ == '__main__':\n",
    "    app.run()\n"
   ],
   "metadata": {
    "collapsed": false,
    "ExecuteTime": {
     "end_time": "2023-10-11T23:37:20.950325800Z",
     "start_time": "2023-10-11T23:36:22.042968400Z"
    }
   },
   "id": "7f26bcebf97379a4"
  },
  {
   "cell_type": "code",
   "execution_count": 20,
   "outputs": [],
   "source": [],
   "metadata": {
    "collapsed": false,
    "ExecuteTime": {
     "end_time": "2023-10-11T23:37:20.962049500Z",
     "start_time": "2023-10-11T23:37:20.952527100Z"
    }
   },
   "id": "6adcc8a8b2c73f09"
  }
 ],
 "metadata": {
  "kernelspec": {
   "display_name": "Python 3",
   "language": "python",
   "name": "python3"
  },
  "language_info": {
   "codemirror_mode": {
    "name": "ipython",
    "version": 3
   },
   "file_extension": ".py",
   "mimetype": "text/x-python",
   "name": "python",
   "nbconvert_exporter": "python",
   "pygments_lexer": "ipython3",
   "version": "3.11.5"
  }
 },
 "nbformat": 4,
 "nbformat_minor": 5
}
