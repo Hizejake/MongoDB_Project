{
 "cells": [
  {
   "cell_type": "code",
   "execution_count": 1,
   "id": "initial_id",
   "metadata": {
    "collapsed": true,
    "ExecuteTime": {
     "end_time": "2023-10-12T01:12:45.194352600Z",
     "start_time": "2023-10-12T01:12:43.596498200Z"
    }
   },
   "outputs": [],
   "source": [
    "import pandas as pd\n",
    "import numpy as np\n",
    "import matplotlib.pyplot as plt\n",
    "import random\n",
    "import math\n",
    "import string\n",
    "from flask import Flask,request,jsonify,render_template\n",
    "import pymongo\n"
   ]
  },
  {
   "cell_type": "markdown",
   "id": "455136d15adfcf09",
   "metadata": {
    "collapsed": false
   },
   "source": [
    "The Objective of this assignment is to make an url page which can\n",
    "\n",
    "1. create a dataset inside mongodb\n",
    "2. update into the dataset\n",
    "3. insertion of data into the dataset\n",
    "4. delete from table\n",
    "5. download data from database"
   ]
  },
  {
   "cell_type": "code",
   "execution_count": 2,
   "id": "49bd3668607617c0",
   "metadata": {
    "collapsed": false,
    "ExecuteTime": {
     "end_time": "2023-10-12T01:12:46.652913600Z",
     "start_time": "2023-10-12T01:12:46.635902Z"
    }
   },
   "outputs": [],
   "source": [
    "dbconn = pymongo.MongoClient('mongodb://localhost:27017/') # connecting to the localhost mongodb service\n"
   ]
  },
  {
   "cell_type": "code",
   "execution_count": 5,
   "outputs": [
    {
     "name": "stdout",
     "output_type": "stream",
     "text": [
      "Database Created Successfully\n"
     ]
    }
   ],
   "source": [
    "dbname = \"user_name\"\n",
    "\n",
    "try:\n",
    "    db = dbconn[dbname]\n",
    "    db.create_collection(dbname+'Collection')\n",
    "    print('Database Created Successfully')\n",
    "except Exception as e:\n",
    "    print(e)"
   ],
   "metadata": {
    "collapsed": false,
    "ExecuteTime": {
     "end_time": "2023-10-12T01:16:54.220214900Z",
     "start_time": "2023-10-12T01:16:54.175340700Z"
    }
   },
   "id": "ddc2c69bef7d3fbd"
  },
  {
   "cell_type": "code",
   "execution_count": 20,
   "outputs": [
    {
     "name": "stdout",
     "output_type": "stream",
     "text": [
      " * Serving Flask app '__name__'\n",
      " * Debug mode: off\n"
     ]
    },
    {
     "name": "stderr",
     "output_type": "stream",
     "text": [
      "WARNING: This is a development server. Do not use it in a production deployment. Use a production WSGI server instead.\n",
      " * Running on http://127.0.0.1:5000\n",
      "Press CTRL+C to quit\n",
      "127.0.0.1 - - [12/Oct/2023 05:06:51] \"POST /db HTTP/1.1\" 200 -\n"
     ]
    }
   ],
   "source": [
    "app = Flask('__name__')\n",
    "@app.route('/db', methods = ['POST'])\n",
    "\n",
    "def dbcreate():\n",
    "    if request.method == 'POST':\n",
    "        dbname = str(request.json['dbname'])\n",
    "        try:\n",
    "            db = dbconn[dbname]\n",
    "            db.create_collection(dbname+'_Collection')\n",
    "            return jsonify(dbname+'DB &'+dbname+'_Collection Created')\n",
    "        except Exception as e:\n",
    "            return jsonify(e)\n",
    "\n",
    "if __name__ == '__main__':\n",
    "    app.run()\n"
   ],
   "metadata": {
    "collapsed": false,
    "ExecuteTime": {
     "end_time": "2023-10-11T23:37:20.950325800Z",
     "start_time": "2023-10-11T23:36:22.042968400Z"
    }
   },
   "id": "7f26bcebf97379a4"
  },
  {
   "cell_type": "code",
   "execution_count": 6,
   "outputs": [
    {
     "name": "stdout",
     "output_type": "stream",
     "text": [
      "Collection Created Successfully\n"
     ]
    }
   ],
   "source": [
    "try:\n",
    "    collection_name = str(input())\n",
    "    db.create_collection(collection_name)\n",
    "    print(\"Collection Created Successfully\")\n",
    "except Exception as e:\n",
    "    print(e)"
   ],
   "metadata": {
    "collapsed": false,
    "ExecuteTime": {
     "end_time": "2023-10-12T01:17:01.196169900Z",
     "start_time": "2023-10-12T01:16:57.954799300Z"
    }
   },
   "id": "6adcc8a8b2c73f09"
  },
  {
   "cell_type": "code",
   "execution_count": null,
   "outputs": [],
   "source": [],
   "metadata": {
    "collapsed": false
   },
   "id": "62b94bc4beca29af"
  }
 ],
 "metadata": {
  "kernelspec": {
   "display_name": "Python 3",
   "language": "python",
   "name": "python3"
  },
  "language_info": {
   "codemirror_mode": {
    "name": "ipython",
    "version": 3
   },
   "file_extension": ".py",
   "mimetype": "text/x-python",
   "name": "python",
   "nbconvert_exporter": "python",
   "pygments_lexer": "ipython3",
   "version": "3.11.5"
  }
 },
 "nbformat": 4,
 "nbformat_minor": 5
}
