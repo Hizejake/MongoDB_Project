{
 "cells": [
  {
   "cell_type": "code",
   "execution_count": 5,
   "id": "initial_id",
   "metadata": {
    "collapsed": true,
    "ExecuteTime": {
     "end_time": "2023-10-12T02:36:42.061929096Z",
     "start_time": "2023-10-12T02:36:41.970699037Z"
    }
   },
   "outputs": [],
   "source": [
    "import pandas as pd\n",
    "import numpy as np\n",
    "import matplotlib.pyplot as plt\n",
    "import random\n",
    "import math\n",
    "import string\n",
    "from flask import Flask,request,jsonify,render_template\n",
    "import pymongo\n"
   ]
  },
  {
   "cell_type": "markdown",
   "id": "455136d15adfcf09",
   "metadata": {
    "collapsed": false
   },
   "source": [
    "The Objective of this assignment is to make an url page which can\n",
    "\n",
    "1. create a dataset inside mongodb\n",
    "2. update into the dataset\n",
    "3. insertion of data into the dataset\n",
    "4. delete from table\n",
    "5. download data from database"
   ]
  },
  {
   "cell_type": "code",
   "execution_count": 6,
   "id": "49bd3668607617c0",
   "metadata": {
    "collapsed": false,
    "ExecuteTime": {
     "end_time": "2023-10-12T02:36:42.079137726Z",
     "start_time": "2023-10-12T02:36:42.021373986Z"
    }
   },
   "outputs": [],
   "source": [
    "dbconn = pymongo.MongoClient('mongodb://localhost:27017/') # connecting to the localhost mongodb service\n"
   ]
  },
  {
   "cell_type": "code",
   "execution_count": 7,
   "outputs": [
    {
     "name": "stdout",
     "output_type": "stream",
     "text": [
      "collection user_nameCollection already exists\n"
     ]
    }
   ],
   "source": [
    "dbname = \"user_name\"\n",
    "\n",
    "try:\n",
    "    db = dbconn[dbname]\n",
    "    db.create_collection(dbname+'Collection')\n",
    "    print('Database Created Successfully')\n",
    "except Exception as e:\n",
    "    print(e)"
   ],
   "metadata": {
    "collapsed": false,
    "ExecuteTime": {
     "end_time": "2023-10-12T02:36:42.079528622Z",
     "start_time": "2023-10-12T02:36:42.021598158Z"
    }
   },
   "id": "ddc2c69bef7d3fbd"
  },
  {
   "cell_type": "code",
   "execution_count": 15,
   "outputs": [
    {
     "name": "stdout",
     "output_type": "stream",
     "text": [
      " * Serving Flask app '__name__'\n",
      " * Debug mode: off\n"
     ]
    },
    {
     "name": "stderr",
     "output_type": "stream",
     "text": [
      "WARNING: This is a development server. Do not use it in a production deployment. Use a production WSGI server instead.\n",
      " * Running on http://127.0.0.1:5000\n",
      "Press CTRL+C to quit\n"
     ]
    }
   ],
   "source": [
    "app = Flask('__name__')\n",
    "@app.route('/db', methods = ['POST'])\n",
    "\n",
    "def dbcreate():\n",
    "    if request.method == 'POST':\n",
    "        dbname = str(request.json['dbname'])\n",
    "        try:\n",
    "            db = dbconn[dbname]\n",
    "            db.create_collection(dbname+'_Collection')\n",
    "            return jsonify(dbname+'DB &'+dbname+'_Collection Created')\n",
    "        except Exception as j:\n",
    "            return jsonify(j)\n",
    "\n",
    "if __name__ == '__main__':\n",
    "    app.run()\n"
   ],
   "metadata": {
    "collapsed": false,
    "ExecuteTime": {
     "end_time": "2023-10-12T03:19:47.148306312Z",
     "start_time": "2023-10-12T03:19:41.307278544Z"
    }
   },
   "id": "7f26bcebf97379a4"
  },
  {
   "cell_type": "code",
   "execution_count": 16,
   "outputs": [
    {
     "name": "stdout",
     "output_type": "stream",
     "text": [
      "Collection Created Successfully\n"
     ]
    }
   ],
   "source": [
    "try:\n",
    "    collection_name = str(input())\n",
    "    db.create_collection(collection_name)\n",
    "    print(\"Collection Created Successfully\")\n",
    "except Exception as e:\n",
    "    print(e)"
   ],
   "metadata": {
    "collapsed": false,
    "ExecuteTime": {
     "end_time": "2023-10-12T03:19:55.315317064Z",
     "start_time": "2023-10-12T03:19:49.986659079Z"
    }
   },
   "id": "6adcc8a8b2c73f09"
  },
  {
   "cell_type": "code",
   "execution_count": 17,
   "outputs": [
    {
     "name": "stdout",
     "output_type": "stream",
     "text": [
      "Collection(Database(MongoClient(host=['localhost:27017'], document_class=dict, tz_aware=False, connect=True), 'user_name'), 'Hello')\n"
     ]
    }
   ],
   "source": [
    "db1 = dbconn['user_name']\n",
    "collection1 = db1['Hello']\n",
    "print(str(collection1))"
   ],
   "metadata": {
    "collapsed": false,
    "ExecuteTime": {
     "end_time": "2023-10-12T03:19:57.344605922Z",
     "start_time": "2023-10-12T03:19:57.331588367Z"
    }
   },
   "id": "62b94bc4beca29af"
  },
  {
   "cell_type": "code",
   "execution_count": null,
   "outputs": [],
   "source": [],
   "metadata": {
    "collapsed": false
   },
   "id": "ac948c0d2685b963"
  }
 ],
 "metadata": {
  "kernelspec": {
   "display_name": "Python 3",
   "language": "python",
   "name": "python3"
  },
  "language_info": {
   "codemirror_mode": {
    "name": "ipython",
    "version": 3
   },
   "file_extension": ".py",
   "mimetype": "text/x-python",
   "name": "python",
   "nbconvert_exporter": "python",
   "pygments_lexer": "ipython3",
   "version": "3.11.5"
  }
 },
 "nbformat": 4,
 "nbformat_minor": 5
}
